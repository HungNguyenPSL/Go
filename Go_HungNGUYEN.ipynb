{
  "cells": [
    {
      "cell_type": "code",
      "execution_count": null,
      "metadata": {
        "id": "ks7AjhAto2dV"
      },
      "outputs": [],
      "source": [
        "!wget https://www.lamsade.dauphine.fr/~cazenave/project2022.zip\n",
        "!unzip project2022.zip"
      ]
    },
    {
      "cell_type": "code",
      "source": [
        "import tensorflow as tf\n",
        "import tensorflow.keras as keras\n",
        "import numpy as np\n",
        "from tensorflow.keras import layers, regularizers\n",
        "import gc\n",
        "import golois\n",
        "import os\n",
        "from google.colab import files\n",
        "import os, pathlib, shutil, random\n",
        "from tensorflow.keras.layers import MultiHeadAttention\n",
        "import csv\n",
        "import matplotlib.pyplot as plt\n",
        "import pandas as pd"
      ],
      "metadata": {
        "id": "0lWU45qe61oy"
      },
      "execution_count": 3,
      "outputs": []
    },
    {
      "cell_type": "code",
      "execution_count": 42,
      "metadata": {
        "id": "oPUYC0k8LRua",
        "colab": {
          "base_uri": "https://localhost:8080/"
        },
        "outputId": "6ea70026-53ba-42a9-be96-1956ef43e879"
      },
      "outputs": [
        {
          "output_type": "stream",
          "name": "stdout",
          "text": [
            "['.config', 'Game.h', 'conv2.csv', 'golois.cpp', 'zip.sh', 'Rzone.h', 'compile.sh', 'importGolois.ipynb', 'golois.cpython-38-x86_64-linux-gnu.so', 'golois.py', 'golois.cpython-37m-x86_64-linux-gnu.so', 'Board.h', 'games.data', 'golois.cpython-310-x86_64-linux-gnu.so', 'project2022.zip', 'compileMAC.sh', 'HungNGUYEN_cnn.h5', 'golois.cpython-39-x86_64-linux-gnu.so', 'validation.data', 'sample_data']\n"
          ]
        }
      ],
      "source": [
        "# List files in the current directory\n",
        "files_in_directory = os.listdir()\n",
        "print(files_in_directory)"
      ]
    },
    {
      "cell_type": "code",
      "execution_count": 40,
      "metadata": {
        "id": "NR6f__XjEC8p",
        "colab": {
          "base_uri": "https://localhost:8080/",
          "height": 74
        },
        "outputId": "00eed027-0881-499e-8ef6-3f6d7022b4c6"
      },
      "outputs": [
        {
          "output_type": "display_data",
          "data": {
            "text/plain": [
              "<IPython.core.display.HTML object>"
            ],
            "text/html": [
              "\n",
              "     <input type=\"file\" id=\"files-0b571a54-8457-4a21-a9f0-de824acc8317\" name=\"files[]\" multiple disabled\n",
              "        style=\"border:none\" />\n",
              "     <output id=\"result-0b571a54-8457-4a21-a9f0-de824acc8317\">\n",
              "      Upload widget is only available when the cell has been executed in the\n",
              "      current browser session. Please rerun this cell to enable.\n",
              "      </output>\n",
              "      <script>// Copyright 2017 Google LLC\n",
              "//\n",
              "// Licensed under the Apache License, Version 2.0 (the \"License\");\n",
              "// you may not use this file except in compliance with the License.\n",
              "// You may obtain a copy of the License at\n",
              "//\n",
              "//      http://www.apache.org/licenses/LICENSE-2.0\n",
              "//\n",
              "// Unless required by applicable law or agreed to in writing, software\n",
              "// distributed under the License is distributed on an \"AS IS\" BASIS,\n",
              "// WITHOUT WARRANTIES OR CONDITIONS OF ANY KIND, either express or implied.\n",
              "// See the License for the specific language governing permissions and\n",
              "// limitations under the License.\n",
              "\n",
              "/**\n",
              " * @fileoverview Helpers for google.colab Python module.\n",
              " */\n",
              "(function(scope) {\n",
              "function span(text, styleAttributes = {}) {\n",
              "  const element = document.createElement('span');\n",
              "  element.textContent = text;\n",
              "  for (const key of Object.keys(styleAttributes)) {\n",
              "    element.style[key] = styleAttributes[key];\n",
              "  }\n",
              "  return element;\n",
              "}\n",
              "\n",
              "// Max number of bytes which will be uploaded at a time.\n",
              "const MAX_PAYLOAD_SIZE = 100 * 1024;\n",
              "\n",
              "function _uploadFiles(inputId, outputId) {\n",
              "  const steps = uploadFilesStep(inputId, outputId);\n",
              "  const outputElement = document.getElementById(outputId);\n",
              "  // Cache steps on the outputElement to make it available for the next call\n",
              "  // to uploadFilesContinue from Python.\n",
              "  outputElement.steps = steps;\n",
              "\n",
              "  return _uploadFilesContinue(outputId);\n",
              "}\n",
              "\n",
              "// This is roughly an async generator (not supported in the browser yet),\n",
              "// where there are multiple asynchronous steps and the Python side is going\n",
              "// to poll for completion of each step.\n",
              "// This uses a Promise to block the python side on completion of each step,\n",
              "// then passes the result of the previous step as the input to the next step.\n",
              "function _uploadFilesContinue(outputId) {\n",
              "  const outputElement = document.getElementById(outputId);\n",
              "  const steps = outputElement.steps;\n",
              "\n",
              "  const next = steps.next(outputElement.lastPromiseValue);\n",
              "  return Promise.resolve(next.value.promise).then((value) => {\n",
              "    // Cache the last promise value to make it available to the next\n",
              "    // step of the generator.\n",
              "    outputElement.lastPromiseValue = value;\n",
              "    return next.value.response;\n",
              "  });\n",
              "}\n",
              "\n",
              "/**\n",
              " * Generator function which is called between each async step of the upload\n",
              " * process.\n",
              " * @param {string} inputId Element ID of the input file picker element.\n",
              " * @param {string} outputId Element ID of the output display.\n",
              " * @return {!Iterable<!Object>} Iterable of next steps.\n",
              " */\n",
              "function* uploadFilesStep(inputId, outputId) {\n",
              "  const inputElement = document.getElementById(inputId);\n",
              "  inputElement.disabled = false;\n",
              "\n",
              "  const outputElement = document.getElementById(outputId);\n",
              "  outputElement.innerHTML = '';\n",
              "\n",
              "  const pickedPromise = new Promise((resolve) => {\n",
              "    inputElement.addEventListener('change', (e) => {\n",
              "      resolve(e.target.files);\n",
              "    });\n",
              "  });\n",
              "\n",
              "  const cancel = document.createElement('button');\n",
              "  inputElement.parentElement.appendChild(cancel);\n",
              "  cancel.textContent = 'Cancel upload';\n",
              "  const cancelPromise = new Promise((resolve) => {\n",
              "    cancel.onclick = () => {\n",
              "      resolve(null);\n",
              "    };\n",
              "  });\n",
              "\n",
              "  // Wait for the user to pick the files.\n",
              "  const files = yield {\n",
              "    promise: Promise.race([pickedPromise, cancelPromise]),\n",
              "    response: {\n",
              "      action: 'starting',\n",
              "    }\n",
              "  };\n",
              "\n",
              "  cancel.remove();\n",
              "\n",
              "  // Disable the input element since further picks are not allowed.\n",
              "  inputElement.disabled = true;\n",
              "\n",
              "  if (!files) {\n",
              "    return {\n",
              "      response: {\n",
              "        action: 'complete',\n",
              "      }\n",
              "    };\n",
              "  }\n",
              "\n",
              "  for (const file of files) {\n",
              "    const li = document.createElement('li');\n",
              "    li.append(span(file.name, {fontWeight: 'bold'}));\n",
              "    li.append(span(\n",
              "        `(${file.type || 'n/a'}) - ${file.size} bytes, ` +\n",
              "        `last modified: ${\n",
              "            file.lastModifiedDate ? file.lastModifiedDate.toLocaleDateString() :\n",
              "                                    'n/a'} - `));\n",
              "    const percent = span('0% done');\n",
              "    li.appendChild(percent);\n",
              "\n",
              "    outputElement.appendChild(li);\n",
              "\n",
              "    const fileDataPromise = new Promise((resolve) => {\n",
              "      const reader = new FileReader();\n",
              "      reader.onload = (e) => {\n",
              "        resolve(e.target.result);\n",
              "      };\n",
              "      reader.readAsArrayBuffer(file);\n",
              "    });\n",
              "    // Wait for the data to be ready.\n",
              "    let fileData = yield {\n",
              "      promise: fileDataPromise,\n",
              "      response: {\n",
              "        action: 'continue',\n",
              "      }\n",
              "    };\n",
              "\n",
              "    // Use a chunked sending to avoid message size limits. See b/62115660.\n",
              "    let position = 0;\n",
              "    do {\n",
              "      const length = Math.min(fileData.byteLength - position, MAX_PAYLOAD_SIZE);\n",
              "      const chunk = new Uint8Array(fileData, position, length);\n",
              "      position += length;\n",
              "\n",
              "      const base64 = btoa(String.fromCharCode.apply(null, chunk));\n",
              "      yield {\n",
              "        response: {\n",
              "          action: 'append',\n",
              "          file: file.name,\n",
              "          data: base64,\n",
              "        },\n",
              "      };\n",
              "\n",
              "      let percentDone = fileData.byteLength === 0 ?\n",
              "          100 :\n",
              "          Math.round((position / fileData.byteLength) * 100);\n",
              "      percent.textContent = `${percentDone}% done`;\n",
              "\n",
              "    } while (position < fileData.byteLength);\n",
              "  }\n",
              "\n",
              "  // All done.\n",
              "  yield {\n",
              "    response: {\n",
              "      action: 'complete',\n",
              "    }\n",
              "  };\n",
              "}\n",
              "\n",
              "scope.google = scope.google || {};\n",
              "scope.google.colab = scope.google.colab || {};\n",
              "scope.google.colab._files = {\n",
              "  _uploadFiles,\n",
              "  _uploadFilesContinue,\n",
              "};\n",
              "})(self);\n",
              "</script> "
            ]
          },
          "metadata": {}
        },
        {
          "output_type": "stream",
          "name": "stdout",
          "text": [
            "Saving HungNGUYEN_EFA.h5 to HungNGUYEN_EFA.h5\n"
          ]
        }
      ],
      "source": [
        "#Upload pretrained model\n",
        "uploaded = files.upload()"
      ]
    },
    {
      "cell_type": "code",
      "execution_count": 5,
      "metadata": {
        "id": "lQnuCjVqIycz"
      },
      "outputs": [],
      "source": [
        "def file_remove(filename):\n",
        "  file_to_remove = filename\n",
        "  if os.path.exists(file_to_remove):\n",
        "      os.remove(file_to_remove)\n",
        "      print(f\"{file_to_remove} has been removed.\")\n",
        "  else:\n",
        "      print(f\"{file_to_remove} does not exist.\")"
      ]
    },
    {
      "cell_type": "code",
      "source": [
        "file_remove('HungNGUYEN_cnn.h5')"
      ],
      "metadata": {
        "colab": {
          "base_uri": "https://localhost:8080/"
        },
        "id": "85MzdoCzX1tP",
        "outputId": "eeb37830-b960-44ef-f36f-2f12be0d51a8"
      },
      "execution_count": 44,
      "outputs": [
        {
          "output_type": "stream",
          "name": "stdout",
          "text": [
            "HungNGUYEN_cnn.h5 has been removed.\n"
          ]
        }
      ]
    },
    {
      "cell_type": "markdown",
      "source": [
        "**Define Inputs and Parameters**"
      ],
      "metadata": {
        "id": "N7pOFkdUYGyT"
      }
    },
    {
      "cell_type": "code",
      "source": [
        "#Go parameters\n",
        "planes = 31\n",
        "moves = 361\n",
        "N = 20000\n",
        "epochs = 40\n",
        "batch = 128\n",
        "filters = 32\n",
        "dropout_rate = 0.2"
      ],
      "metadata": {
        "id": "gYxtqAoD7PH9"
      },
      "execution_count": 45,
      "outputs": []
    },
    {
      "cell_type": "code",
      "execution_count": 46,
      "metadata": {
        "id": "xf1Y9okaLzCP",
        "colab": {
          "base_uri": "https://localhost:8080/"
        },
        "outputId": "5a4d61d3-29d8-43b7-847f-0dbacddc287e"
      },
      "outputs": [
        {
          "output_type": "stream",
          "name": "stdout",
          "text": [
            "getValidation\n"
          ]
        }
      ],
      "source": [
        "#Define input\n",
        "input_data = np.random.randint(2, size=(N, 19, 19, planes))\n",
        "input_data = input_data.astype('float32')\n",
        "\n",
        "policy = np.random.randint(moves, size=(N,))\n",
        "policy = keras.utils.to_categorical(policy)\n",
        "\n",
        "value = np.random.randint(2, size=(N,))\n",
        "value = value.astype('float32')\n",
        "\n",
        "end = np.random.randint(2, size=(N, 19, 19, 2))\n",
        "end = end.astype('float32')\n",
        "\n",
        "groups = np.zeros((N, 19, 19, 1))\n",
        "groups = groups.astype('float32')\n",
        "\n",
        "print(\"getValidation\", flush=True)\n",
        "golois.getValidation(input_data, policy, value, end)"
      ]
    },
    {
      "cell_type": "markdown",
      "source": [
        "**CNN**"
      ],
      "metadata": {
        "id": "ZUPLUdprcmKS"
      }
    },
    {
      "cell_type": "code",
      "source": [
        "input = keras.Input(shape=(19, 19, planes), name='board')\n",
        "x = layers.Conv2D(filters, 1, activation='relu', padding='same')(input)\n",
        "for i in range (7):\n",
        "    x = layers.Conv2D(filters, 3, activation='relu', padding='same')(x)"
      ],
      "metadata": {
        "id": "ZxxO4YgyclEz"
      },
      "execution_count": 52,
      "outputs": []
    },
    {
      "cell_type": "markdown",
      "source": [
        "**ResNet**"
      ],
      "metadata": {
        "id": "XYfEaj2dHazB"
      }
    },
    {
      "cell_type": "code",
      "source": [
        "def resnet_block(ident, filters):\n",
        "    ident = ident\n",
        "    x = layers.Conv2D(filters, 3, activation='relu', padding='same')(ident)\n",
        "    x = layers.BatchNormalization()(x)\n",
        "    x = layers.Conv2D(filters, 3, activation=None, padding='same')(x)\n",
        "    x = layers.BatchNormalization()(x)\n",
        "    x = layers.add([ident, x])\n",
        "    x = layers.Activation('relu')(x)\n",
        "    return x"
      ],
      "metadata": {
        "id": "r1MxQ02rGH2q"
      },
      "execution_count": null,
      "outputs": []
    },
    {
      "cell_type": "code",
      "execution_count": null,
      "metadata": {
        "id": "3PhuMBRzq7Yz"
      },
      "outputs": [],
      "source": [
        "#resnet\n",
        "input = keras.Input(shape=(19, 19, planes), name='board')\n",
        "x = layers.Conv2D(filters, 1, activation='relu', padding='same')(input)\n",
        "for _ in range(4):\n",
        "    x=resnet_block(x,filters)"
      ]
    },
    {
      "cell_type": "markdown",
      "source": [
        "**MobileNet**"
      ],
      "metadata": {
        "id": "jPxgWDCmHijf"
      }
    },
    {
      "cell_type": "code",
      "source": [
        "def bottleneck_block(x, expand=6*filters, squeeze=filters):\n",
        "\n",
        "    m = layers.Conv2D(expand, (1,1), kernel_regularizer=regularizers.l2(0.0001), use_bias = False)(x)\n",
        "    m = layers.BatchNormalization()(m)\n",
        "    m = layers.Activation('relu')(m)\n",
        "\n",
        "    m = layers.DepthwiseConv2D((3,3), padding='same', kernel_regularizer=regularizers.l2(0.0001), use_bias = False)(m)\n",
        "    m = layers.BatchNormalization()(m)\n",
        "    m = layers.Activation('relu')(m)\n",
        "\n",
        "    m = layers.Conv2D(squeeze, (1,1), kernel_regularizer=regularizers.l2(0.0001), use_bias = False)(m)\n",
        "    m = layers.BatchNormalization()(m)\n",
        "\n",
        "    return layers.Add()([m, x])"
      ],
      "metadata": {
        "id": "-zIdK_667nQ4"
      },
      "execution_count": null,
      "outputs": []
    },
    {
      "cell_type": "code",
      "source": [
        "#MobileNet\n",
        "input = keras.Input(shape=(19, 19, planes), name='board')\n",
        "x = layers.Conv2D(filters, 1, activation='relu', padding='same')(input)\n",
        "x = layers.Dropout(dropout_rate)(x)\n",
        "for i in range (5):\n",
        "    x = bottleneck_block(x)"
      ],
      "metadata": {
        "id": "IYMVdBVD7uhg"
      },
      "execution_count": null,
      "outputs": []
    },
    {
      "cell_type": "markdown",
      "source": [
        "**ConvNEXT ver 1**"
      ],
      "metadata": {
        "id": "-oHYmYr5H6Eu"
      }
    },
    {
      "cell_type": "code",
      "source": [
        "input = keras.Input(shape=(19, 19, planes), name='board')\n",
        "x = layers.Conv2D(filters, 1, activation='relu', padding='same')(input)\n",
        "for i in range (7):\n",
        "  x1 = tf.keras.layers.DepthwiseConv2D((7,7), padding='same', use_bias=False)(x)\n",
        "  x1 = layers.LayerNormalization()(x1)\n",
        "  x1 = layers.Conv2D(4 * filters, 1, padding='same', activation='gelu')(x1)\n",
        "  x1 = layers.Dropout(dropout_rate)(x1)\n",
        "  x1 = layers.Conv2D(filters, 1, padding='same')(x1)\n",
        "  x = layers.add([x1, x])\n",
        "x = tf.keras.layers.BatchNormalization()(x)"
      ],
      "metadata": {
        "id": "_eYbgERoH-zn"
      },
      "execution_count": 37,
      "outputs": []
    },
    {
      "cell_type": "markdown",
      "source": [
        "\n",
        "\n",
        "**ConvNEXT ver 2**"
      ],
      "metadata": {
        "id": "AbbjUyVTIXer"
      }
    },
    {
      "cell_type": "code",
      "source": [
        "#Both work, but the model below works better\n",
        "'''\n",
        "input = keras.Input(shape=(19, 19, planes), name='board')\n",
        "x = layers.Conv2D(filters, 1, activation='relu', padding='same')(input)\n",
        "x = layers.Dropout(dropout_rate)(x)\n",
        "for i in range(7):\n",
        "  x1 = layers.DepthwiseConv2D((7, 7), padding='same', use_bias=False)(x)\n",
        "  x1 = layers.LayerNormalization()(x1)\n",
        "  x1 = layers.Conv2D(4 * filters, 1, padding='same', activation='gelu')(x1)\n",
        "  x1 = layers.BatchNormalization()(x1)\n",
        "  x1 = layers.Conv2D(filters, 1, padding='same')(x1)\n",
        "  x = layers.add([x1, x])\n",
        "x = tf.keras.layers.BatchNormalization()(x)\n",
        "'''"
      ],
      "metadata": {
        "id": "E2SU59ZWIazz"
      },
      "execution_count": null,
      "outputs": []
    },
    {
      "cell_type": "code",
      "source": [
        "input = keras.Input(shape=(19, 19, planes), name='board')\n",
        "x = layers.Conv2D(filters, 1, activation='relu', padding='same', kernel_regularizer=regularizers.l2(0.0001))(input)\n",
        "x = layers.Dropout(dropout_rate)(x)\n",
        "for i in range(7):\n",
        "  x1 = layers.DepthwiseConv2D((7, 7), padding='same', use_bias=False, kernel_regularizer=regularizers.l2(0.0001))(x)\n",
        "  x1 = layers.LayerNormalization()(x1)\n",
        "  x1 = layers.Conv2D(4 * filters, 1, padding='same', activation='gelu', kernel_regularizer=regularizers.l2(0.0001))(x1)\n",
        "  #x1 = layers.Dropout(dropout_rate)(x1)\n",
        "  x1 = layers.BatchNormalization()(x1)\n",
        "  x1 = layers.Conv2D(filters, 1, padding='same', kernel_regularizer=regularizers.l2(0.0001))(x1)\n",
        "  x = layers.add([x1, x])\n",
        "x = tf.keras.layers.BatchNormalization()(x)"
      ],
      "metadata": {
        "id": "mesuTWs7Epxt"
      },
      "execution_count": 18,
      "outputs": []
    },
    {
      "cell_type": "markdown",
      "source": [
        "**Transformers**"
      ],
      "metadata": {
        "id": "0Jv9QQDY0mWq"
      }
    },
    {
      "cell_type": "code",
      "source": [
        "class MB4D(layers.Layer):\n",
        "    def __init__(self, filters, dropout_rate=0.2, **kwargs):\n",
        "        super(MB4D, self).__init__(**kwargs)\n",
        "        self.filters = filters\n",
        "        self.conv1x1_1 = layers.Conv2D(filters, 1, activation='relu', padding='same')\n",
        "        self.batch_norm1 = layers.BatchNormalization()\n",
        "        self.gelu = layers.Activation('gelu')\n",
        "        self.conv1x1_2 = layers.Conv2D(filters, 1, activation='relu', padding='same')\n",
        "        self.batch_norm2 = layers.BatchNormalization()\n",
        "\n",
        "    def call(self, inputs, training=None):\n",
        "        x1 = self.conv1x1_1(inputs)\n",
        "        x1 = self.batch_norm1(x1, training=training)\n",
        "        x1 = self.gelu(x1)\n",
        "        x1 = self.conv1x1_2(x1)\n",
        "        x1 = self.batch_norm2(x1, training=training)\n",
        "        return x1"
      ],
      "metadata": {
        "id": "5f3MRC1C9-fc"
      },
      "execution_count": 13,
      "outputs": []
    },
    {
      "cell_type": "code",
      "source": [
        "class MB3D(tf.keras.layers.Layer):\n",
        "    def __init__(self, units, dropout_rate=0.1, **kwargs):\n",
        "        super(MB3D, self).__init__(**kwargs)\n",
        "        self.units = units\n",
        "        self.dropout_rate = dropout_rate\n",
        "        self.layer_norm = layers.LayerNormalization()\n",
        "        self.linear = layers.Dense(units)\n",
        "        self.linear_out = layers.Dense(units)\n",
        "        self.gelu = layers.Activation('gelu')\n",
        "\n",
        "    def call(self, inputs):\n",
        "        x = self.layer_norm(inputs)\n",
        "        linear_output = self.linear(x)\n",
        "        key = linear_output\n",
        "        query = linear_output\n",
        "        value = linear_output\n",
        "\n",
        "        attention_weights = tf.matmul(key, query, transpose_b=True) / tf.sqrt(tf.cast(self.units, dtype=tf.float32))\n",
        "        attention_weights = tf.nn.softmax(attention_weights, axis=-1)\n",
        "        attention_output = tf.matmul(attention_weights, value)\n",
        "        attention_output_linear = self.linear_out(attention_output)\n",
        "\n",
        "        result = layers.add([attention_output_linear, inputs])\n",
        "        result = self.layer_norm(result)\n",
        "        result = self.linear_out(result)\n",
        "        result = self.gelu(result)\n",
        "        result = self.linear_out(result)\n",
        "        result = layers.add([result, value])\n",
        "\n",
        "        return result\n"
      ],
      "metadata": {
        "id": "51AshRIbAy_x"
      },
      "execution_count": 14,
      "outputs": []
    },
    {
      "cell_type": "code",
      "source": [
        "class PositionalEmbedding(layers.Layer):\n",
        "    def __init__(self, sequence_length, output_dim, **kwargs):\n",
        "        super().__init__(**kwargs)\n",
        "        self.position_embeddings = layers.Embedding(input_dim=sequence_length, output_dim=output_dim, trainable=False)\n",
        "        self.sequence_length = sequence_length\n",
        "        self.output_dim = output_dim\n",
        "\n",
        "    def call(self, inputs):\n",
        "        length = tf.shape(inputs)[1]\n",
        "        batch_size = tf.shape(inputs)[0]\n",
        "        positions = tf.range(start=0, limit=length, delta=1)\n",
        "        positions = tf.expand_dims(positions, axis=0)\n",
        "        positions = tf.tile(positions, [batch_size, 1])\n",
        "        embedded_positions = self.position_embeddings(positions)\n",
        "        return inputs + embedded_positions\n",
        "\n",
        "    def compute_mask(self, inputs, mask=None):\n",
        "        return tf.math.not_equal(inputs, 0)\n",
        "\n",
        "    def get_config(self):\n",
        "        config = super().get_config()\n",
        "        config.update({\"output_dim\": self.output_dim, \"sequence_length\": self.sequence_length})\n",
        "        return config\n"
      ],
      "metadata": {
        "id": "KtIWEmvCne__"
      },
      "execution_count": 15,
      "outputs": []
    },
    {
      "cell_type": "code",
      "source": [
        "input = keras.Input(shape=(19, 19, planes), name='board')\n",
        "x = layers.Conv2D(50, 1, activation='relu', padding='same',kernel_regularizer=regularizers.l2(0.0001))(input)\n",
        "x = layers.Dropout(dropout_rate)(x)\n",
        "x = layers.Conv2D(50, 3, activation='relu', padding='same',kernel_regularizer=regularizers.l2(0.0001))(x)\n",
        "x1 = MB4D(50)(x)\n",
        "x=layers.add([x1,x])\n",
        "x1 = MB4D(50)(x)\n",
        "x=layers.add([x1,x])\n",
        "x1 = MB4D(50)(x)\n",
        "x=layers.add([x1,x])\n",
        "x = layers.Reshape((-1, 50))(x)\n",
        "x = PositionalEmbedding(361,50)(x)\n",
        "x=MB3D(50)(x)\n",
        "x=MB3D(50)(x)\n",
        "x = layers.Reshape((19, 19, 50))(x[:, :361, :])"
      ],
      "metadata": {
        "id": "MBZkY0xwoweW"
      },
      "execution_count": 51,
      "outputs": []
    },
    {
      "cell_type": "markdown",
      "source": [
        "**Define Outputs & Train**"
      ],
      "metadata": {
        "id": "_bDhO3dPHoWt"
      }
    },
    {
      "cell_type": "code",
      "source": [
        "#Define Outputs\n",
        "policy_head = layers.Conv2D(1, 1, activation='relu', padding='same', use_bias=False,\n",
        "                            kernel_regularizer=regularizers.l2(0.0001))(x)\n",
        "policy_head = layers.Flatten()(policy_head)\n",
        "policy_head = layers.Activation('softmax', name='policy')(policy_head)\n",
        "\n",
        "value_head = layers.Conv2D(1, 1, activation='relu', padding='same', use_bias=False,\n",
        "                           kernel_regularizer=regularizers.l2(0.0001))(x)\n",
        "value_head = layers.Flatten()(value_head)\n",
        "value_head = layers.Dense(50, activation='relu',\n",
        "                         kernel_regularizer=regularizers.l2(0.0001))(value_head)\n",
        "value_head = layers.Dense(1, activation='sigmoid', name='value',\n",
        "                         kernel_regularizer=regularizers.l2(0.0001))(value_head)"
      ],
      "metadata": {
        "id": "EJGs-7aI9xW3"
      },
      "execution_count": 53,
      "outputs": []
    },
    {
      "cell_type": "code",
      "source": [
        "custom_objects = {\"MB4D\": MB4D, \"MB3D\": MB3D, \"PositionalEmbedding\": PositionalEmbedding}"
      ],
      "metadata": {
        "id": "0LR6V9Wc7AgR"
      },
      "execution_count": 54,
      "outputs": []
    },
    {
      "cell_type": "code",
      "source": [
        "#Before running any models, you should run custom layers first\n",
        "def load_model(model_name):\n",
        "    if os.path.exists(model_name):\n",
        "        model = keras.models.load_model(model_name, custom_objects=custom_objects)\n",
        "        return model\n",
        "    else:\n",
        "        return None"
      ],
      "metadata": {
        "id": "MequWVBV70Q1"
      },
      "execution_count": 55,
      "outputs": []
    },
    {
      "cell_type": "code",
      "source": [
        "def model_train_eval(model_name, epochs=epochs):\n",
        "    model = load_model(model_name)\n",
        "\n",
        "    if model is None:\n",
        "        print(\"Model not found. Creating a new model.\")\n",
        "        model = keras.Model(inputs=input, outputs=[policy_head, value_head])\n",
        "        model.summary()\n",
        "        model.compile(optimizer=keras.optimizers.Adam(learning_rate=0.0005),\n",
        "                      loss={'policy': 'categorical_crossentropy', 'value': 'binary_crossentropy'},\n",
        "                      loss_weights={'policy': 1.0, 'value': 1.0},\n",
        "                      metrics={'policy': 'categorical_accuracy', 'value': 'mse'})\n",
        "    else:\n",
        "        print(\"Loaded existing model.\")\n",
        "        model.summary()\n",
        "\n",
        "    for i in range(1, epochs + 1):\n",
        "        print('epoch ' + str(i))\n",
        "        golois.getBatch(input_data, policy, value, end, groups, i * N)\n",
        "        history = model.fit(input_data,\n",
        "                            {'policy': policy, 'value': value},\n",
        "                            epochs=1, batch_size=batch)\n",
        "        if (i % 5 == 0):\n",
        "            gc.collect()\n",
        "        if (i % 20 == 0):\n",
        "            golois.getValidation(input_data, policy, value, end)\n",
        "            val = model.evaluate(input_data,\n",
        "                                 [policy, value], verbose=0, batch_size=batch)\n",
        "            print(\"val =\", val)\n",
        "            model.save(model_name)"
      ],
      "metadata": {
        "id": "Sx4BXKV35QJT"
      },
      "execution_count": 56,
      "outputs": []
    },
    {
      "cell_type": "code",
      "source": [
        "model_train_eval('HungNGUYEN_cnn.h5')"
      ],
      "metadata": {
        "id": "KJ6ww8fOZqZa"
      },
      "execution_count": null,
      "outputs": []
    },
    {
      "cell_type": "code",
      "execution_count": 57,
      "metadata": {
        "colab": {
          "base_uri": "https://localhost:8080/",
          "height": 17
        },
        "id": "3VTXESQjcVe-",
        "outputId": "e836f740-3cd2-4557-b6bb-d811e5df0a42"
      },
      "outputs": [
        {
          "output_type": "display_data",
          "data": {
            "text/plain": [
              "<IPython.core.display.Javascript object>"
            ],
            "application/javascript": [
              "\n",
              "    async function download(id, filename, size) {\n",
              "      if (!google.colab.kernel.accessAllowed) {\n",
              "        return;\n",
              "      }\n",
              "      const div = document.createElement('div');\n",
              "      const label = document.createElement('label');\n",
              "      label.textContent = `Downloading \"${filename}\": `;\n",
              "      div.appendChild(label);\n",
              "      const progress = document.createElement('progress');\n",
              "      progress.max = size;\n",
              "      div.appendChild(progress);\n",
              "      document.body.appendChild(div);\n",
              "\n",
              "      const buffers = [];\n",
              "      let downloaded = 0;\n",
              "\n",
              "      const channel = await google.colab.kernel.comms.open(id);\n",
              "      // Send a message to notify the kernel that we're ready.\n",
              "      channel.send({})\n",
              "\n",
              "      for await (const message of channel.messages) {\n",
              "        // Send a message to notify the kernel that we're ready.\n",
              "        channel.send({})\n",
              "        if (message.buffers) {\n",
              "          for (const buffer of message.buffers) {\n",
              "            buffers.push(buffer);\n",
              "            downloaded += buffer.byteLength;\n",
              "            progress.value = downloaded;\n",
              "          }\n",
              "        }\n",
              "      }\n",
              "      const blob = new Blob(buffers, {type: 'application/binary'});\n",
              "      const a = document.createElement('a');\n",
              "      a.href = window.URL.createObjectURL(blob);\n",
              "      a.download = filename;\n",
              "      div.appendChild(a);\n",
              "      a.click();\n",
              "      div.remove();\n",
              "    }\n",
              "  "
            ]
          },
          "metadata": {}
        },
        {
          "output_type": "display_data",
          "data": {
            "text/plain": [
              "<IPython.core.display.Javascript object>"
            ],
            "application/javascript": [
              "download(\"download_fba5c78b-0b68-425c-a87b-d5bc77fb987e\", \"HungNGUYEN_EFA.h5\", 1236264)"
            ]
          },
          "metadata": {}
        }
      ],
      "source": [
        "# Download the saved model file\n",
        "files.download('HungNGUYEN_cnn.h5')"
      ]
    }
  ],
  "metadata": {
    "accelerator": "GPU",
    "colab": {
      "provenance": []
    },
    "kernelspec": {
      "display_name": "Python 3 (ipykernel)",
      "language": "python",
      "name": "python3"
    },
    "language_info": {
      "codemirror_mode": {
        "name": "ipython",
        "version": 3
      },
      "file_extension": ".py",
      "mimetype": "text/x-python",
      "name": "python",
      "nbconvert_exporter": "python",
      "pygments_lexer": "ipython3",
      "version": "3.10.6"
    }
  },
  "nbformat": 4,
  "nbformat_minor": 0
}